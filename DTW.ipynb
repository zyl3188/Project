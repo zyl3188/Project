{
  "nbformat": 4,
  "nbformat_minor": 0,
  "metadata": {
    "colab": {
      "provenance": []
    },
    "kernelspec": {
      "name": "python3",
      "display_name": "Python 3"
    },
    "language_info": {
      "name": "python"
    }
  },
  "cells": [
    {
      "cell_type": "markdown",
      "source": [
        "STEP 0. Import data from finnhub"
      ],
      "metadata": {
        "id": "sx5l8xTICjKh"
      }
    },
    {
      "cell_type": "code",
      "source": [
        "pip install finnhub-python"
      ],
      "metadata": {
        "colab": {
          "base_uri": "https://localhost:8080/"
        },
        "id": "lVKM_qY-wQPi",
        "outputId": "95fc2766-20b9-40ff-ee06-e58a267221c6"
      },
      "execution_count": null,
      "outputs": [
        {
          "output_type": "stream",
          "name": "stdout",
          "text": [
            "Looking in indexes: https://pypi.org/simple, https://us-python.pkg.dev/colab-wheels/public/simple/\n",
            "Collecting finnhub-python\n",
            "  Downloading finnhub_python-2.4.16-py3-none-any.whl (11 kB)\n",
            "Requirement already satisfied: requests>=2.22.0 in /usr/local/lib/python3.9/dist-packages (from finnhub-python) (2.27.1)\n",
            "Requirement already satisfied: charset-normalizer~=2.0.0 in /usr/local/lib/python3.9/dist-packages (from requests>=2.22.0->finnhub-python) (2.0.12)\n",
            "Requirement already satisfied: idna<4,>=2.5 in /usr/local/lib/python3.9/dist-packages (from requests>=2.22.0->finnhub-python) (3.4)\n",
            "Requirement already satisfied: certifi>=2017.4.17 in /usr/local/lib/python3.9/dist-packages (from requests>=2.22.0->finnhub-python) (2022.12.7)\n",
            "Requirement already satisfied: urllib3<1.27,>=1.21.1 in /usr/local/lib/python3.9/dist-packages (from requests>=2.22.0->finnhub-python) (1.26.15)\n",
            "Installing collected packages: finnhub-python\n",
            "Successfully installed finnhub-python-2.4.16\n"
          ]
        }
      ]
    },
    {
      "cell_type": "code",
      "source": [
        "import pandas as pd\n",
        "import finnhub\n",
        "import datetime\n",
        "finnhub_client = finnhub.Client(api_key=\"cfgveo1r01qlga2um3tgcfgveo1r01qlga2um3u0\")\n",
        "data = finnhub_client.stock_candles('TSLA', 'D', 1325307600, 1676670749)\n",
        "df = pd.DataFrame(data)\n",
        "df = df.drop('s', axis=1)\n",
        "df = df.rename(columns={'c': 'Close','h':'High','l':'Low','o':\"Open\",'t':\"TimeStamp\",'v':'Volume'})\n",
        "df['Date'] = pd.to_datetime(df['TimeStamp'], unit='s')\n",
        "df['Date'] = pd.to_datetime(df['Date'])\n",
        "df.set_index('Date', inplace=True)\n",
        "df"
      ],
      "metadata": {
        "colab": {
          "base_uri": "https://localhost:8080/",
          "height": 455
        },
        "id": "mlo5E2vpwfxW",
        "outputId": "ad2b798f-936e-4ba4-ce52-babfa82df16e"
      },
      "execution_count": null,
      "outputs": [
        {
          "output_type": "execute_result",
          "data": {
            "text/plain": [
              "                 Close        High         Low        Open   TimeStamp  \\\n",
              "Date                                                                     \n",
              "2012-01-03    1.872000    1.966660    1.843327    1.929327  1325548800   \n",
              "2012-01-04    1.847327    1.911333    1.833327    1.880660  1325635200   \n",
              "2012-01-05    1.808000    1.862000    1.790000    1.850660  1325721600   \n",
              "2012-01-06    1.794000    1.852660    1.760660    1.813333  1325808000   \n",
              "2012-01-09    1.816660    1.832660    1.741327    1.800000  1326067200   \n",
              "...                ...         ...         ...         ...         ...   \n",
              "2023-02-13  194.640000  196.300000  187.610000  194.415000  1676246400   \n",
              "2023-02-14  209.250000  209.820000  189.440000  191.940000  1676332800   \n",
              "2023-02-15  214.240000  214.660000  206.110000  211.755000  1676419200   \n",
              "2023-02-16  202.040000  217.650000  201.840000  210.780000  1676505600   \n",
              "2023-02-17  208.310000  208.440000  197.500000  199.985000  1676592000   \n",
              "\n",
              "               Volume  \n",
              "Date                   \n",
              "2012-01-03   13920780  \n",
              "2012-01-04    9450540  \n",
              "2012-01-05   15081495  \n",
              "2012-01-06   14794305  \n",
              "2012-01-09   13454265  \n",
              "...               ...  \n",
              "2023-02-13  172475452  \n",
              "2023-02-14  216455708  \n",
              "2023-02-15  182108581  \n",
              "2023-02-16  229586538  \n",
              "2023-02-17  213738549  \n",
              "\n",
              "[2801 rows x 6 columns]"
            ],
            "text/html": [
              "\n",
              "  <div id=\"df-ddf899b5-8117-4ea3-a9e1-7946496e21b8\">\n",
              "    <div class=\"colab-df-container\">\n",
              "      <div>\n",
              "<style scoped>\n",
              "    .dataframe tbody tr th:only-of-type {\n",
              "        vertical-align: middle;\n",
              "    }\n",
              "\n",
              "    .dataframe tbody tr th {\n",
              "        vertical-align: top;\n",
              "    }\n",
              "\n",
              "    .dataframe thead th {\n",
              "        text-align: right;\n",
              "    }\n",
              "</style>\n",
              "<table border=\"1\" class=\"dataframe\">\n",
              "  <thead>\n",
              "    <tr style=\"text-align: right;\">\n",
              "      <th></th>\n",
              "      <th>Close</th>\n",
              "      <th>High</th>\n",
              "      <th>Low</th>\n",
              "      <th>Open</th>\n",
              "      <th>TimeStamp</th>\n",
              "      <th>Volume</th>\n",
              "    </tr>\n",
              "    <tr>\n",
              "      <th>Date</th>\n",
              "      <th></th>\n",
              "      <th></th>\n",
              "      <th></th>\n",
              "      <th></th>\n",
              "      <th></th>\n",
              "      <th></th>\n",
              "    </tr>\n",
              "  </thead>\n",
              "  <tbody>\n",
              "    <tr>\n",
              "      <th>2012-01-03</th>\n",
              "      <td>1.872000</td>\n",
              "      <td>1.966660</td>\n",
              "      <td>1.843327</td>\n",
              "      <td>1.929327</td>\n",
              "      <td>1325548800</td>\n",
              "      <td>13920780</td>\n",
              "    </tr>\n",
              "    <tr>\n",
              "      <th>2012-01-04</th>\n",
              "      <td>1.847327</td>\n",
              "      <td>1.911333</td>\n",
              "      <td>1.833327</td>\n",
              "      <td>1.880660</td>\n",
              "      <td>1325635200</td>\n",
              "      <td>9450540</td>\n",
              "    </tr>\n",
              "    <tr>\n",
              "      <th>2012-01-05</th>\n",
              "      <td>1.808000</td>\n",
              "      <td>1.862000</td>\n",
              "      <td>1.790000</td>\n",
              "      <td>1.850660</td>\n",
              "      <td>1325721600</td>\n",
              "      <td>15081495</td>\n",
              "    </tr>\n",
              "    <tr>\n",
              "      <th>2012-01-06</th>\n",
              "      <td>1.794000</td>\n",
              "      <td>1.852660</td>\n",
              "      <td>1.760660</td>\n",
              "      <td>1.813333</td>\n",
              "      <td>1325808000</td>\n",
              "      <td>14794305</td>\n",
              "    </tr>\n",
              "    <tr>\n",
              "      <th>2012-01-09</th>\n",
              "      <td>1.816660</td>\n",
              "      <td>1.832660</td>\n",
              "      <td>1.741327</td>\n",
              "      <td>1.800000</td>\n",
              "      <td>1326067200</td>\n",
              "      <td>13454265</td>\n",
              "    </tr>\n",
              "    <tr>\n",
              "      <th>...</th>\n",
              "      <td>...</td>\n",
              "      <td>...</td>\n",
              "      <td>...</td>\n",
              "      <td>...</td>\n",
              "      <td>...</td>\n",
              "      <td>...</td>\n",
              "    </tr>\n",
              "    <tr>\n",
              "      <th>2023-02-13</th>\n",
              "      <td>194.640000</td>\n",
              "      <td>196.300000</td>\n",
              "      <td>187.610000</td>\n",
              "      <td>194.415000</td>\n",
              "      <td>1676246400</td>\n",
              "      <td>172475452</td>\n",
              "    </tr>\n",
              "    <tr>\n",
              "      <th>2023-02-14</th>\n",
              "      <td>209.250000</td>\n",
              "      <td>209.820000</td>\n",
              "      <td>189.440000</td>\n",
              "      <td>191.940000</td>\n",
              "      <td>1676332800</td>\n",
              "      <td>216455708</td>\n",
              "    </tr>\n",
              "    <tr>\n",
              "      <th>2023-02-15</th>\n",
              "      <td>214.240000</td>\n",
              "      <td>214.660000</td>\n",
              "      <td>206.110000</td>\n",
              "      <td>211.755000</td>\n",
              "      <td>1676419200</td>\n",
              "      <td>182108581</td>\n",
              "    </tr>\n",
              "    <tr>\n",
              "      <th>2023-02-16</th>\n",
              "      <td>202.040000</td>\n",
              "      <td>217.650000</td>\n",
              "      <td>201.840000</td>\n",
              "      <td>210.780000</td>\n",
              "      <td>1676505600</td>\n",
              "      <td>229586538</td>\n",
              "    </tr>\n",
              "    <tr>\n",
              "      <th>2023-02-17</th>\n",
              "      <td>208.310000</td>\n",
              "      <td>208.440000</td>\n",
              "      <td>197.500000</td>\n",
              "      <td>199.985000</td>\n",
              "      <td>1676592000</td>\n",
              "      <td>213738549</td>\n",
              "    </tr>\n",
              "  </tbody>\n",
              "</table>\n",
              "<p>2801 rows × 6 columns</p>\n",
              "</div>\n",
              "      <button class=\"colab-df-convert\" onclick=\"convertToInteractive('df-ddf899b5-8117-4ea3-a9e1-7946496e21b8')\"\n",
              "              title=\"Convert this dataframe to an interactive table.\"\n",
              "              style=\"display:none;\">\n",
              "        \n",
              "  <svg xmlns=\"http://www.w3.org/2000/svg\" height=\"24px\"viewBox=\"0 0 24 24\"\n",
              "       width=\"24px\">\n",
              "    <path d=\"M0 0h24v24H0V0z\" fill=\"none\"/>\n",
              "    <path d=\"M18.56 5.44l.94 2.06.94-2.06 2.06-.94-2.06-.94-.94-2.06-.94 2.06-2.06.94zm-11 1L8.5 8.5l.94-2.06 2.06-.94-2.06-.94L8.5 2.5l-.94 2.06-2.06.94zm10 10l.94 2.06.94-2.06 2.06-.94-2.06-.94-.94-2.06-.94 2.06-2.06.94z\"/><path d=\"M17.41 7.96l-1.37-1.37c-.4-.4-.92-.59-1.43-.59-.52 0-1.04.2-1.43.59L10.3 9.45l-7.72 7.72c-.78.78-.78 2.05 0 2.83L4 21.41c.39.39.9.59 1.41.59.51 0 1.02-.2 1.41-.59l7.78-7.78 2.81-2.81c.8-.78.8-2.07 0-2.86zM5.41 20L4 18.59l7.72-7.72 1.47 1.35L5.41 20z\"/>\n",
              "  </svg>\n",
              "      </button>\n",
              "      \n",
              "  <style>\n",
              "    .colab-df-container {\n",
              "      display:flex;\n",
              "      flex-wrap:wrap;\n",
              "      gap: 12px;\n",
              "    }\n",
              "\n",
              "    .colab-df-convert {\n",
              "      background-color: #E8F0FE;\n",
              "      border: none;\n",
              "      border-radius: 50%;\n",
              "      cursor: pointer;\n",
              "      display: none;\n",
              "      fill: #1967D2;\n",
              "      height: 32px;\n",
              "      padding: 0 0 0 0;\n",
              "      width: 32px;\n",
              "    }\n",
              "\n",
              "    .colab-df-convert:hover {\n",
              "      background-color: #E2EBFA;\n",
              "      box-shadow: 0px 1px 2px rgba(60, 64, 67, 0.3), 0px 1px 3px 1px rgba(60, 64, 67, 0.15);\n",
              "      fill: #174EA6;\n",
              "    }\n",
              "\n",
              "    [theme=dark] .colab-df-convert {\n",
              "      background-color: #3B4455;\n",
              "      fill: #D2E3FC;\n",
              "    }\n",
              "\n",
              "    [theme=dark] .colab-df-convert:hover {\n",
              "      background-color: #434B5C;\n",
              "      box-shadow: 0px 1px 3px 1px rgba(0, 0, 0, 0.15);\n",
              "      filter: drop-shadow(0px 1px 2px rgba(0, 0, 0, 0.3));\n",
              "      fill: #FFFFFF;\n",
              "    }\n",
              "  </style>\n",
              "\n",
              "      <script>\n",
              "        const buttonEl =\n",
              "          document.querySelector('#df-ddf899b5-8117-4ea3-a9e1-7946496e21b8 button.colab-df-convert');\n",
              "        buttonEl.style.display =\n",
              "          google.colab.kernel.accessAllowed ? 'block' : 'none';\n",
              "\n",
              "        async function convertToInteractive(key) {\n",
              "          const element = document.querySelector('#df-ddf899b5-8117-4ea3-a9e1-7946496e21b8');\n",
              "          const dataTable =\n",
              "            await google.colab.kernel.invokeFunction('convertToInteractive',\n",
              "                                                     [key], {});\n",
              "          if (!dataTable) return;\n",
              "\n",
              "          const docLinkHtml = 'Like what you see? Visit the ' +\n",
              "            '<a target=\"_blank\" href=https://colab.research.google.com/notebooks/data_table.ipynb>data table notebook</a>'\n",
              "            + ' to learn more about interactive tables.';\n",
              "          element.innerHTML = '';\n",
              "          dataTable['output_type'] = 'display_data';\n",
              "          await google.colab.output.renderOutput(dataTable, element);\n",
              "          const docLink = document.createElement('div');\n",
              "          docLink.innerHTML = docLinkHtml;\n",
              "          element.appendChild(docLink);\n",
              "        }\n",
              "      </script>\n",
              "    </div>\n",
              "  </div>\n",
              "  "
            ]
          },
          "metadata": {},
          "execution_count": 2
        }
      ]
    },
    {
      "cell_type": "markdown",
      "source": [
        "STEP 1. Calculate and plot the daily returns"
      ],
      "metadata": {
        "id": "QvL_6c97JRqS"
      }
    },
    {
      "cell_type": "code",
      "source": [
        "df['Return'] = 100*(df['Close'].pct_change())\n",
        "df.head()"
      ],
      "metadata": {
        "colab": {
          "base_uri": "https://localhost:8080/",
          "height": 238
        },
        "id": "X_juX970_Ird",
        "outputId": "24f9fd51-c967-48c9-edad-6df35380e63e"
      },
      "execution_count": null,
      "outputs": [
        {
          "output_type": "execute_result",
          "data": {
            "text/plain": [
              "               Close      High       Low      Open   TimeStamp    Volume  \\\n",
              "Date                                                                       \n",
              "2012-01-03  1.872000  1.966660  1.843327  1.929327  1325548800  13920780   \n",
              "2012-01-04  1.847327  1.911333  1.833327  1.880660  1325635200   9450540   \n",
              "2012-01-05  1.808000  1.862000  1.790000  1.850660  1325721600  15081495   \n",
              "2012-01-06  1.794000  1.852660  1.760660  1.813333  1325808000  14794305   \n",
              "2012-01-09  1.816660  1.832660  1.741327  1.800000  1326067200  13454265   \n",
              "\n",
              "              Return  \n",
              "Date                  \n",
              "2012-01-03       NaN  \n",
              "2012-01-04 -1.318020  \n",
              "2012-01-05 -2.128842  \n",
              "2012-01-06 -0.774336  \n",
              "2012-01-09  1.263099  "
            ],
            "text/html": [
              "\n",
              "  <div id=\"df-c5d7a6fd-1fd5-4389-b431-223105644732\">\n",
              "    <div class=\"colab-df-container\">\n",
              "      <div>\n",
              "<style scoped>\n",
              "    .dataframe tbody tr th:only-of-type {\n",
              "        vertical-align: middle;\n",
              "    }\n",
              "\n",
              "    .dataframe tbody tr th {\n",
              "        vertical-align: top;\n",
              "    }\n",
              "\n",
              "    .dataframe thead th {\n",
              "        text-align: right;\n",
              "    }\n",
              "</style>\n",
              "<table border=\"1\" class=\"dataframe\">\n",
              "  <thead>\n",
              "    <tr style=\"text-align: right;\">\n",
              "      <th></th>\n",
              "      <th>Close</th>\n",
              "      <th>High</th>\n",
              "      <th>Low</th>\n",
              "      <th>Open</th>\n",
              "      <th>TimeStamp</th>\n",
              "      <th>Volume</th>\n",
              "      <th>Return</th>\n",
              "    </tr>\n",
              "    <tr>\n",
              "      <th>Date</th>\n",
              "      <th></th>\n",
              "      <th></th>\n",
              "      <th></th>\n",
              "      <th></th>\n",
              "      <th></th>\n",
              "      <th></th>\n",
              "      <th></th>\n",
              "    </tr>\n",
              "  </thead>\n",
              "  <tbody>\n",
              "    <tr>\n",
              "      <th>2012-01-03</th>\n",
              "      <td>1.872000</td>\n",
              "      <td>1.966660</td>\n",
              "      <td>1.843327</td>\n",
              "      <td>1.929327</td>\n",
              "      <td>1325548800</td>\n",
              "      <td>13920780</td>\n",
              "      <td>NaN</td>\n",
              "    </tr>\n",
              "    <tr>\n",
              "      <th>2012-01-04</th>\n",
              "      <td>1.847327</td>\n",
              "      <td>1.911333</td>\n",
              "      <td>1.833327</td>\n",
              "      <td>1.880660</td>\n",
              "      <td>1325635200</td>\n",
              "      <td>9450540</td>\n",
              "      <td>-1.318020</td>\n",
              "    </tr>\n",
              "    <tr>\n",
              "      <th>2012-01-05</th>\n",
              "      <td>1.808000</td>\n",
              "      <td>1.862000</td>\n",
              "      <td>1.790000</td>\n",
              "      <td>1.850660</td>\n",
              "      <td>1325721600</td>\n",
              "      <td>15081495</td>\n",
              "      <td>-2.128842</td>\n",
              "    </tr>\n",
              "    <tr>\n",
              "      <th>2012-01-06</th>\n",
              "      <td>1.794000</td>\n",
              "      <td>1.852660</td>\n",
              "      <td>1.760660</td>\n",
              "      <td>1.813333</td>\n",
              "      <td>1325808000</td>\n",
              "      <td>14794305</td>\n",
              "      <td>-0.774336</td>\n",
              "    </tr>\n",
              "    <tr>\n",
              "      <th>2012-01-09</th>\n",
              "      <td>1.816660</td>\n",
              "      <td>1.832660</td>\n",
              "      <td>1.741327</td>\n",
              "      <td>1.800000</td>\n",
              "      <td>1326067200</td>\n",
              "      <td>13454265</td>\n",
              "      <td>1.263099</td>\n",
              "    </tr>\n",
              "  </tbody>\n",
              "</table>\n",
              "</div>\n",
              "      <button class=\"colab-df-convert\" onclick=\"convertToInteractive('df-c5d7a6fd-1fd5-4389-b431-223105644732')\"\n",
              "              title=\"Convert this dataframe to an interactive table.\"\n",
              "              style=\"display:none;\">\n",
              "        \n",
              "  <svg xmlns=\"http://www.w3.org/2000/svg\" height=\"24px\"viewBox=\"0 0 24 24\"\n",
              "       width=\"24px\">\n",
              "    <path d=\"M0 0h24v24H0V0z\" fill=\"none\"/>\n",
              "    <path d=\"M18.56 5.44l.94 2.06.94-2.06 2.06-.94-2.06-.94-.94-2.06-.94 2.06-2.06.94zm-11 1L8.5 8.5l.94-2.06 2.06-.94-2.06-.94L8.5 2.5l-.94 2.06-2.06.94zm10 10l.94 2.06.94-2.06 2.06-.94-2.06-.94-.94-2.06-.94 2.06-2.06.94z\"/><path d=\"M17.41 7.96l-1.37-1.37c-.4-.4-.92-.59-1.43-.59-.52 0-1.04.2-1.43.59L10.3 9.45l-7.72 7.72c-.78.78-.78 2.05 0 2.83L4 21.41c.39.39.9.59 1.41.59.51 0 1.02-.2 1.41-.59l7.78-7.78 2.81-2.81c.8-.78.8-2.07 0-2.86zM5.41 20L4 18.59l7.72-7.72 1.47 1.35L5.41 20z\"/>\n",
              "  </svg>\n",
              "      </button>\n",
              "      \n",
              "  <style>\n",
              "    .colab-df-container {\n",
              "      display:flex;\n",
              "      flex-wrap:wrap;\n",
              "      gap: 12px;\n",
              "    }\n",
              "\n",
              "    .colab-df-convert {\n",
              "      background-color: #E8F0FE;\n",
              "      border: none;\n",
              "      border-radius: 50%;\n",
              "      cursor: pointer;\n",
              "      display: none;\n",
              "      fill: #1967D2;\n",
              "      height: 32px;\n",
              "      padding: 0 0 0 0;\n",
              "      width: 32px;\n",
              "    }\n",
              "\n",
              "    .colab-df-convert:hover {\n",
              "      background-color: #E2EBFA;\n",
              "      box-shadow: 0px 1px 2px rgba(60, 64, 67, 0.3), 0px 1px 3px 1px rgba(60, 64, 67, 0.15);\n",
              "      fill: #174EA6;\n",
              "    }\n",
              "\n",
              "    [theme=dark] .colab-df-convert {\n",
              "      background-color: #3B4455;\n",
              "      fill: #D2E3FC;\n",
              "    }\n",
              "\n",
              "    [theme=dark] .colab-df-convert:hover {\n",
              "      background-color: #434B5C;\n",
              "      box-shadow: 0px 1px 3px 1px rgba(0, 0, 0, 0.15);\n",
              "      filter: drop-shadow(0px 1px 2px rgba(0, 0, 0, 0.3));\n",
              "      fill: #FFFFFF;\n",
              "    }\n",
              "  </style>\n",
              "\n",
              "      <script>\n",
              "        const buttonEl =\n",
              "          document.querySelector('#df-c5d7a6fd-1fd5-4389-b431-223105644732 button.colab-df-convert');\n",
              "        buttonEl.style.display =\n",
              "          google.colab.kernel.accessAllowed ? 'block' : 'none';\n",
              "\n",
              "        async function convertToInteractive(key) {\n",
              "          const element = document.querySelector('#df-c5d7a6fd-1fd5-4389-b431-223105644732');\n",
              "          const dataTable =\n",
              "            await google.colab.kernel.invokeFunction('convertToInteractive',\n",
              "                                                     [key], {});\n",
              "          if (!dataTable) return;\n",
              "\n",
              "          const docLinkHtml = 'Like what you see? Visit the ' +\n",
              "            '<a target=\"_blank\" href=https://colab.research.google.com/notebooks/data_table.ipynb>data table notebook</a>'\n",
              "            + ' to learn more about interactive tables.';\n",
              "          element.innerHTML = '';\n",
              "          dataTable['output_type'] = 'display_data';\n",
              "          await google.colab.output.renderOutput(dataTable, element);\n",
              "          const docLink = document.createElement('div');\n",
              "          docLink.innerHTML = docLinkHtml;\n",
              "          element.appendChild(docLink);\n",
              "        }\n",
              "      </script>\n",
              "    </div>\n",
              "  </div>\n",
              "  "
            ]
          },
          "metadata": {},
          "execution_count": 3
        }
      ]
    },
    {
      "cell_type": "code",
      "source": [
        "import math\n",
        "import numpy as np\n",
        "import pandas as pd\n",
        "import matplotlib.pyplot as plt\n",
        "%matplotlib inline\n",
        "\n",
        "df.dropna(inplace=True)\n",
        "\n",
        "fig,ax = plt.subplots(figsize=(8,4))\n",
        "plt.plot(df['Return'], label = 'Daily Returns')\n",
        "plt.legend(loc='upper right')\n",
        "plt.title('Daily Returns Over Time')"
      ],
      "metadata": {
        "colab": {
          "base_uri": "https://localhost:8080/",
          "height": 298
        },
        "id": "vPCyFY-2YjzO",
        "outputId": "373b0455-e6ae-4cce-a7ee-5983b0b22b65"
      },
      "execution_count": null,
      "outputs": [
        {
          "output_type": "execute_result",
          "data": {
            "text/plain": [
              "Text(0.5, 1.0, 'Daily Returns Over Time')"
            ]
          },
          "metadata": {},
          "execution_count": 4
        },
        {
          "output_type": "display_data",
          "data": {
            "text/plain": [
              "<Figure size 576x288 with 1 Axes>"
            ],
            "image/png": "[encoded data removed]"
          },
          "metadata": {
            "needs_background": "light"
          }
        }
      ]
    },
    {
      "cell_type": "markdown",
      "source": [
        "step 2: calculate daily, monthly and annual volatility"
      ],
      "metadata": {
        "id": "hvOJE07gZwsm"
      }
    },
    {
      "cell_type": "code",
      "source": [
        "# daily volatility\n",
        "daily_volatility = df['Return'].std()\n",
        "\n",
        "# monthly volatility\n",
        "monthly_volatility = math.sqrt(21) * daily_volatility\n",
        "\n",
        "# annual volatility\n",
        "annual_volatility = math.sqrt(252) * daily_volatility\n",
        "\n",
        "from tabulate import tabulate\n",
        "\n",
        "print(tabulate([['Tesla',daily_volatility,monthly_volatility,annual_volatility]],headers = ['Daily Volatility %', 'Monthly Volatility %', 'Annual Volatility %'],tablefmt = 'fancy_grid',stralign='center',numalign='center',floatfmt=\".2f\"))\n"
      ],
      "metadata": {
        "colab": {
          "base_uri": "https://localhost:8080/"
        },
        "id": "3M7xuyt7HlcI",
        "outputId": "c3e1d48c-a9e4-4b41-a807-c950bb415098"
      },
      "execution_count": null,
      "outputs": [
        {
          "output_type": "stream",
          "name": "stdout",
          "text": [
            "╒═══════╤══════════════════════╤════════════════════════╤═══════════════════════╕\n",
            "│       │  Daily Volatility %  │  Monthly Volatility %  │  Annual Volatility %  │\n",
            "╞═══════╪══════════════════════╪════════════════════════╪═══════════════════════╡\n",
            "│ Tesla │         3.60         │         16.51          │         57.18         │\n",
            "╘═══════╧══════════════════════╧════════════════════════╧═══════════════════════╛\n"
          ]
        }
      ]
    },
    {
      "cell_type": "markdown",
      "source": [
        "step 3: build DTW model"
      ],
      "metadata": {
        "id": "SqhPrzZ_aWrt"
      }
    },
    {
      "cell_type": "code",
      "source": [
        "import numpy as np\n",
        "from scipy.spatial.distance import euclidean\n",
        "from scipy.signal import find_peaks"
      ],
      "metadata": {
        "id": "LJAoEPJOavvg"
      },
      "execution_count": null,
      "outputs": []
    },
    {
      "cell_type": "code",
      "source": [
        "def dtw(x, y):\n",
        "    \"\"\"\n",
        "    Compute the Dynamic Time Warping (DTW) distance between two time series.\n",
        "    :param x: numpy array containing the first time series\n",
        "    :param y: numpy array containing the second time series\n",
        "    :return: the DTW distance between x and y\n",
        "    IMPORTANT: x, y should be in the same length.\n",
        "    \"\"\"\n",
        "    n = len(x)\n",
        "    m = len(y)\n",
        "    DTW = np.zeros((n + 1, m + 1))\n",
        "\n",
        "    for i in range(n+1):\n",
        "        for j in range(m+1):\n",
        "            DTW[i, j] = np.inf\n",
        "    DTW[0, 0] = 0\n",
        "\n",
        "    for i in range(1, n + 1):\n",
        "        for j in range(1, m + 1):\n",
        "            cost = abs(x[i - 1] - y[j - 1])\n",
        "            DTW[i, j] = cost + min(DTW[i - 1, j], DTW[i, j - 1], DTW[i - 1, j - 1])\n",
        "\n",
        "    return DTW[n, m]\n"
      ],
      "metadata": {
        "id": "jWqLeoA1RL_D"
      },
      "execution_count": null,
      "outputs": []
    },
    {
      "cell_type": "code",
      "source": [
        "#testing dtw\n",
        "daily_return = np.array(df['Return'])\n",
        "daily_return1 = daily_return[0:10]\n",
        "daily_return2 = daily_return[10:20]\n",
        "dtw(daily_return1, daily_return2)"
      ],
      "metadata": {
        "colab": {
          "base_uri": "https://localhost:8080/"
        },
        "id": "nA7sQ3A5fx2z",
        "outputId": "9c64a592-a37f-4b9b-cde7-2f25b761efbf"
      },
      "execution_count": null,
      "outputs": [
        {
          "output_type": "execute_result",
          "data": {
            "text/plain": [
              "41.035478294899285"
            ]
          },
          "metadata": {},
          "execution_count": 8
        }
      ]
    },
    {
      "cell_type": "code",
      "source": [
        "def find_similar_pattern(query, dataset, threshold=0.1):\n",
        "    \"\"\"\n",
        "    Find the patterns in the dataset that are similar to the query pattern using Dynamic Time Warping (DTW).\n",
        "    :param query: numpy array containing the query pattern\n",
        "    :param dataset: numpy array containing the dataset of patterns\n",
        "    :param threshold: threshold value for DTW distance\n",
        "    :return: list of indices of the patterns in the dataset that are similar to the query pattern\n",
        "    \"\"\"\n",
        "    similar_patterns = []\n",
        "    for i, pattern in enumerate(dataset):\n",
        "        if len(query) != len(pattern):\n",
        "            continue\n",
        "        dist = dtw(query, pattern)\n",
        "        if dist < threshold:\n",
        "            similar_patterns.append(i)\n",
        "\n",
        "    return similar_patterns"
      ],
      "metadata": {
        "id": "HLD-skzQ-CK_"
      },
      "execution_count": null,
      "outputs": []
    },
    {
      "cell_type": "code",
      "source": [
        "#test fsp\n",
        "find_similar_pattern(daily_return1,daily_return)"
      ],
      "metadata": {
        "colab": {
          "base_uri": "https://localhost:8080/",
          "height": 305
        },
        "id": "sD9SlyF-oy76",
        "outputId": "c48b331f-1ae7-45a4-87a3-0b45d7c8c58c"
      },
      "execution_count": null,
      "outputs": [
        {
          "output_type": "error",
          "ename": "TypeError",
          "evalue": "ignored",
          "traceback": [
            "\u001b[0;31m---------------------------------------------------------------------------\u001b[0m",
            "\u001b[0;31mTypeError\u001b[0m                                 Traceback (most recent call last)",
            "\u001b[0;32m<ipython-input-14-35db9abcd947>\u001b[0m in \u001b[0;36m<module>\u001b[0;34m\u001b[0m\n\u001b[1;32m      1\u001b[0m \u001b[0;31m#test fsp\u001b[0m\u001b[0;34m\u001b[0m\u001b[0;34m\u001b[0m\u001b[0m\n\u001b[0;32m----> 2\u001b[0;31m \u001b[0mfind_similar_pattern\u001b[0m\u001b[0;34m(\u001b[0m\u001b[0mdaily_return1\u001b[0m\u001b[0;34m,\u001b[0m\u001b[0mdaily_return\u001b[0m\u001b[0;34m)\u001b[0m\u001b[0;34m\u001b[0m\u001b[0;34m\u001b[0m\u001b[0m\n\u001b[0m",
            "\u001b[0;32m<ipython-input-12-fe455bbecbd3>\u001b[0m in \u001b[0;36mfind_similar_pattern\u001b[0;34m(query, dataset, threshold)\u001b[0m\n\u001b[1;32m      9\u001b[0m     \u001b[0msimilar_patterns\u001b[0m \u001b[0;34m=\u001b[0m \u001b[0;34m[\u001b[0m\u001b[0;34m]\u001b[0m\u001b[0;34m\u001b[0m\u001b[0;34m\u001b[0m\u001b[0m\n\u001b[1;32m     10\u001b[0m     \u001b[0;32mfor\u001b[0m \u001b[0mi\u001b[0m\u001b[0;34m,\u001b[0m \u001b[0mpattern\u001b[0m \u001b[0;32min\u001b[0m \u001b[0menumerate\u001b[0m\u001b[0;34m(\u001b[0m\u001b[0mdataset\u001b[0m\u001b[0;34m)\u001b[0m\u001b[0;34m:\u001b[0m\u001b[0;34m\u001b[0m\u001b[0;34m\u001b[0m\u001b[0m\n\u001b[0;32m---> 11\u001b[0;31m         \u001b[0;32mif\u001b[0m \u001b[0mlen\u001b[0m\u001b[0;34m(\u001b[0m\u001b[0mquery\u001b[0m\u001b[0;34m)\u001b[0m \u001b[0;34m!=\u001b[0m \u001b[0mlen\u001b[0m\u001b[0;34m(\u001b[0m\u001b[0mpattern\u001b[0m\u001b[0;34m)\u001b[0m\u001b[0;34m:\u001b[0m\u001b[0;34m\u001b[0m\u001b[0;34m\u001b[0m\u001b[0m\n\u001b[0m\u001b[1;32m     12\u001b[0m             \u001b[0;32mcontinue\u001b[0m\u001b[0;34m\u001b[0m\u001b[0;34m\u001b[0m\u001b[0m\n\u001b[1;32m     13\u001b[0m         \u001b[0mdist\u001b[0m \u001b[0;34m=\u001b[0m \u001b[0mdtw\u001b[0m\u001b[0;34m(\u001b[0m\u001b[0mquery\u001b[0m\u001b[0;34m,\u001b[0m \u001b[0mpattern\u001b[0m\u001b[0;34m)\u001b[0m\u001b[0;34m\u001b[0m\u001b[0;34m\u001b[0m\u001b[0m\n",
            "\u001b[0;31mTypeError\u001b[0m: object of type 'numpy.float64' has no len()"
          ]
        }
      ]
    },
    {
      "cell_type": "code",
      "source": [
        "pip install fastdtw"
      ],
      "metadata": {
        "colab": {
          "base_uri": "https://localhost:8080/"
        },
        "id": "LtFqDOINyNqf",
        "outputId": "ae2270e0-b328-4ab2-8a66-e6f6ac2ed8b4"
      },
      "execution_count": null,
      "outputs": [
        {
          "output_type": "stream",
          "name": "stdout",
          "text": [
            "Looking in indexes: https://pypi.org/simple, https://us-python.pkg.dev/colab-wheels/public/simple/\n",
            "Collecting fastdtw\n",
            "  Downloading fastdtw-0.3.4.tar.gz (133 kB)\n",
            "\u001b[2K     \u001b[90m━━━━━━━━━━━━━━━━━━━━━━━━━━━━━━━━━━━━━━━\u001b[0m \u001b[32m133.4/133.4 KB\u001b[0m \u001b[31m5.2 MB/s\u001b[0m eta \u001b[36m0:00:00\u001b[0m\n",
            "\u001b[?25h  Preparing metadata (setup.py) ... \u001b[?25l\u001b[?25hdone\n",
            "Requirement already satisfied: numpy in /usr/local/lib/python3.9/dist-packages (from fastdtw) (1.22.4)\n",
            "Building wheels for collected packages: fastdtw\n",
            "  Building wheel for fastdtw (setup.py) ... \u001b[?25l\u001b[?25hdone\n",
            "  Created wheel for fastdtw: filename=fastdtw-0.3.4-cp39-cp39-linux_x86_64.whl size=534332 sha256=21ef8ab2f4d4ada86b4c763f5d14b397c3095e739c6b6678e25b453f71e90857\n",
            "  Stored in directory: /root/.cache/pip/wheels/1f/a1/63/bfd0fddb5bf0b59f564872e29272cee8a2de0cd745d88fede5\n",
            "Successfully built fastdtw\n",
            "Installing collected packages: fastdtw\n",
            "Successfully installed fastdtw-0.3.4\n"
          ]
        }
      ]
    },
    {
      "cell_type": "code",
      "source": [
        "import numpy as np\n",
        "from scipy.spatial.distance import euclidean\n",
        "from fastdtw import fastdtw\n",
        "\n",
        "def find_similar_pattern(target, candidates):\n",
        "    \"\"\"\n",
        "    Finds an array with a similar pattern to the target array using DTW.\n",
        "    \"\"\"\n",
        "    best_candidate = None\n",
        "    best_distance = np.inf\n",
        "    for candidate in candidates:\n",
        "        distance, _ = fastdtw(target, candidate, dist=euclidean)\n",
        "        if distance < best_distance:\n",
        "            best_candidate = candidate\n",
        "            best_distance = distance\n",
        "    return best_candidate"
      ],
      "metadata": {
        "id": "EN0upa1HyIJW"
      },
      "execution_count": null,
      "outputs": []
    },
    {
      "cell_type": "code",
      "source": [
        "target = np.array([1, 2, 3, 2, 1])\n",
        "candidates = np.array([0, 1, 2, 1, 0])\n",
        "similar_pattern = find_similar_pattern(target, candidates)\n",
        "print(similar_pattern)"
      ],
      "metadata": {
        "colab": {
          "base_uri": "https://localhost:8080/",
          "height": 374
        },
        "id": "u0K7xGvxyc_J",
        "outputId": "58fad094-21a7-4dad-e7e3-e6e63de9a791"
      },
      "execution_count": null,
      "outputs": [
        {
          "output_type": "error",
          "ename": "TypeError",
          "evalue": "ignored",
          "traceback": [
            "\u001b[0;31m---------------------------------------------------------------------------\u001b[0m",
            "\u001b[0;31mTypeError\u001b[0m                                 Traceback (most recent call last)",
            "\u001b[0;32m<ipython-input-22-3ffb40f715cd>\u001b[0m in \u001b[0;36m<module>\u001b[0;34m\u001b[0m\n\u001b[1;32m      1\u001b[0m \u001b[0mtarget\u001b[0m \u001b[0;34m=\u001b[0m \u001b[0mnp\u001b[0m\u001b[0;34m.\u001b[0m\u001b[0marray\u001b[0m\u001b[0;34m(\u001b[0m\u001b[0;34m[\u001b[0m\u001b[0;36m1\u001b[0m\u001b[0;34m,\u001b[0m \u001b[0;36m2\u001b[0m\u001b[0;34m,\u001b[0m \u001b[0;36m3\u001b[0m\u001b[0;34m,\u001b[0m \u001b[0;36m2\u001b[0m\u001b[0;34m,\u001b[0m \u001b[0;36m1\u001b[0m\u001b[0;34m]\u001b[0m\u001b[0;34m)\u001b[0m\u001b[0;34m\u001b[0m\u001b[0;34m\u001b[0m\u001b[0m\n\u001b[1;32m      2\u001b[0m \u001b[0mcandidates\u001b[0m \u001b[0;34m=\u001b[0m \u001b[0mnp\u001b[0m\u001b[0;34m.\u001b[0m\u001b[0marray\u001b[0m\u001b[0;34m(\u001b[0m\u001b[0;34m[\u001b[0m\u001b[0;36m0\u001b[0m\u001b[0;34m,\u001b[0m \u001b[0;36m1\u001b[0m\u001b[0;34m,\u001b[0m \u001b[0;36m2\u001b[0m\u001b[0;34m,\u001b[0m \u001b[0;36m1\u001b[0m\u001b[0;34m,\u001b[0m \u001b[0;36m0\u001b[0m\u001b[0;34m]\u001b[0m\u001b[0;34m)\u001b[0m\u001b[0;34m\u001b[0m\u001b[0;34m\u001b[0m\u001b[0m\n\u001b[0;32m----> 3\u001b[0;31m \u001b[0msimilar_pattern\u001b[0m \u001b[0;34m=\u001b[0m \u001b[0mfind_similar_pattern\u001b[0m\u001b[0;34m(\u001b[0m\u001b[0mtarget\u001b[0m\u001b[0;34m,\u001b[0m \u001b[0mcandidates\u001b[0m\u001b[0;34m)\u001b[0m\u001b[0;34m\u001b[0m\u001b[0;34m\u001b[0m\u001b[0m\n\u001b[0m\u001b[1;32m      4\u001b[0m \u001b[0mprint\u001b[0m\u001b[0;34m(\u001b[0m\u001b[0msimilar_pattern\u001b[0m\u001b[0;34m)\u001b[0m\u001b[0;34m\u001b[0m\u001b[0;34m\u001b[0m\u001b[0m\n",
            "\u001b[0;32m<ipython-input-20-ce74182384a5>\u001b[0m in \u001b[0;36mfind_similar_pattern\u001b[0;34m(target, candidates)\u001b[0m\n\u001b[1;32m     10\u001b[0m     \u001b[0mbest_distance\u001b[0m \u001b[0;34m=\u001b[0m \u001b[0mnp\u001b[0m\u001b[0;34m.\u001b[0m\u001b[0minf\u001b[0m\u001b[0;34m\u001b[0m\u001b[0;34m\u001b[0m\u001b[0m\n\u001b[1;32m     11\u001b[0m     \u001b[0;32mfor\u001b[0m \u001b[0mcandidate\u001b[0m \u001b[0;32min\u001b[0m \u001b[0mcandidates\u001b[0m\u001b[0;34m:\u001b[0m\u001b[0;34m\u001b[0m\u001b[0;34m\u001b[0m\u001b[0m\n\u001b[0;32m---> 12\u001b[0;31m         \u001b[0mdistance\u001b[0m\u001b[0;34m,\u001b[0m \u001b[0m_\u001b[0m \u001b[0;34m=\u001b[0m \u001b[0mfastdtw\u001b[0m\u001b[0;34m(\u001b[0m\u001b[0mtarget\u001b[0m\u001b[0;34m,\u001b[0m \u001b[0mcandidate\u001b[0m\u001b[0;34m,\u001b[0m \u001b[0mdist\u001b[0m\u001b[0;34m=\u001b[0m\u001b[0meuclidean\u001b[0m\u001b[0;34m)\u001b[0m\u001b[0;34m\u001b[0m\u001b[0;34m\u001b[0m\u001b[0m\n\u001b[0m\u001b[1;32m     13\u001b[0m         \u001b[0;32mif\u001b[0m \u001b[0mdistance\u001b[0m \u001b[0;34m<\u001b[0m \u001b[0mbest_distance\u001b[0m\u001b[0;34m:\u001b[0m\u001b[0;34m\u001b[0m\u001b[0;34m\u001b[0m\u001b[0m\n\u001b[1;32m     14\u001b[0m             \u001b[0mbest_candidate\u001b[0m \u001b[0;34m=\u001b[0m \u001b[0mcandidate\u001b[0m\u001b[0;34m\u001b[0m\u001b[0;34m\u001b[0m\u001b[0m\n",
            "\u001b[0;32mfastdtw/_fastdtw.pyx\u001b[0m in \u001b[0;36mfastdtw._fastdtw.fastdtw\u001b[0;34m()\u001b[0m\n",
            "\u001b[0;31mTypeError\u001b[0m: len() of unsized object"
          ]
        }
      ]
    }
  ]
}